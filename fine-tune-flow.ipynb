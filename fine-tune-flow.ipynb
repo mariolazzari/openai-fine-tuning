{
 "cells": [
  {
   "cell_type": "markdown",
   "metadata": {},
   "source": [
    "# OpenAI Fine-tuning API Flow Example\n",
    "This notebook provides a baseline example of how to use the OpenAI Fine-tuning API to fine-tune a model using a custom dataset. Included is a process for creating training and testing data in JASONL format from a CSV file and how to fine-tune and use a model using the data.\n",
    "## Setup\n",
    "To use this notebook, you will need to have an OpenAI API key. You can generate one at [platform.openai.com](https://platform.openai.com/). Save the key in a file called `.env` in the same directory as this notebook under the variable name `OPENAI_API_KEY`.\n",
    "\n",
    "## Documentation\n",
    "- OpenAI Fine-tuning Guide: https://platform.openai.com/docs/guides/fine-tuning\n",
    "- OpenAI Fine-tuning API reference:  https://beta.openai.com/docs/api-reference/fine-tuning/\n",
    "\n",
    "## Sources\n",
    "This example borrows liberally from [\"How to fine-tune chat models\"](https://github.com/openai/openai-cookbook/blob/main/examples/How_to_finetune_chat_models.ipynb) by OpenAI."
   ]
  },
  {
   "cell_type": "code",
   "execution_count": 1,
   "metadata": {},
   "outputs": [],
   "source": [
    "# Import necessary libraries\n",
    "import os\n",
    "import pandas as pd\n",
    "from openai import OpenAI\n",
    "from dotenv import load_dotenv\n",
    "\n",
    "# Load the .env file\n",
    "load_dotenv()\n",
    "\n",
    "# OpenAI API key\n",
    "client = OpenAI(api_key=os.environ.get(\"OPENAI_API_KEY\", \"<your OpenAI API key if not set as env var>\"))"
   ]
  },
  {
   "cell_type": "code",
   "execution_count": 4,
   "metadata": {},
   "outputs": [],
   "source": [
    "# Data setup\n",
    "data_folder = \"data\"\n",
    "training_file_name = os.path.join(data_folder, \"review_finetune_training.jsonl\")\n",
    "validation_file_name = os.path.join(data_folder, \"review_finetune_validation.jsonl\")"
   ]
  },
  {
   "cell_type": "markdown",
   "metadata": {},
   "source": [
    "## 1. Upload files\n",
    "\n",
    "Use the `client.files.create()` method to upload the training and validation data files to the OpenAI API. For each uploaded file, the endpoint will return a file ID that you can use to reference the file in subsequent API calls.\n",
    "\n",
    "__NOTE:__ The validation file is optional.\n",
    "\n",
    "API documentation: https://platform.openai.com/docs/api-reference/files/create"
   ]
  },
  {
   "cell_type": "code",
   "execution_count": 5,
   "metadata": {},
   "outputs": [
    {
     "name": "stdout",
     "output_type": "stream",
     "text": [
      "Training file ID: file-xCxjvCDx9BsgQz5m0WGHK0B8\n",
      "Validation file ID: file-L00HnShcn5CWFtGm1IPs2Ncc\n"
     ]
    }
   ],
   "source": [
    "with open(training_file_name, \"rb\") as training_fd:\n",
    "    training_response = client.files.create(\n",
    "        file=training_fd, purpose=\"fine-tune\"\n",
    "    )\n",
    "\n",
    "training_file_id = training_response.id\n",
    "\n",
    "with open(validation_file_name, \"rb\") as validation_fd:\n",
    "    validation_response = client.files.create(\n",
    "        file=validation_fd, purpose=\"fine-tune\"\n",
    "    )\n",
    "validation_file_id = validation_response.id\n",
    "\n",
    "print(\"Training file ID:\", training_file_id)\n",
    "print(\"Validation file ID:\", validation_file_id)"
   ]
  },
  {
   "cell_type": "markdown",
   "metadata": {},
   "source": [
    "## 2. Create fine-tuning job\n",
    "Use the `client.fine_tuning.jobs.create()` method to create a fine-tuning job. The method accepts the following parameters:\n",
    "- `model`: The model ID of the model you want to fine-tune.\n",
    "- `training_file`: The ID of the training file you uploaded in the previous step.\n",
    "- `validation_file`: The ID of the validation file you uploaded in the previous step (optional).\n",
    "- `suffix`: A suffix to append to the fine-tuned model name (optional).\n",
    "- `seed`: A seed to use for reproducibility (optional).\n",
    "\n",
    "You can also set hyperparameters for the fine-tuning job. At present they are:\n",
    "- `batch_size`: The batch size to use during fine-tuning.\n",
    "- `learning_rate_multiplier`: A multiplier to apply to the learning rate of the model.\n",
    "- `n_epochs`: The number of epochs to train the model for.\n",
    "\n",
    "Finally, you can enable integrations. At present they are limited to Weights and Biases. See the API documentation for more information.\n",
    "\n",
    "__NOTE:__ The fine-tuning job takes time - often 10 minutes or more.\n",
    "\n",
    "API documentation: https://platform.openai.com/docs/api-reference/fine-tuning/create"
   ]
  },
  {
   "cell_type": "code",
   "execution_count": 6,
   "metadata": {},
   "outputs": [
    {
     "name": "stdout",
     "output_type": "stream",
     "text": [
      "Job ID: ftjob-8X1gNa0yukCsdJBiytVKemkf\n",
      "Status: validating_files\n"
     ]
    }
   ],
   "source": [
    "response = client.fine_tuning.jobs.create(\n",
    "    training_file=training_file_id,\n",
    "    validation_file=validation_file_id,\n",
    "    model=\"gpt-3.5-turbo\",\n",
    "    suffix=\"via-api\",\n",
    ")\n",
    "\n",
    "job_id = response.id\n",
    "\n",
    "print(\"Job ID:\", response.id)\n",
    "print(\"Status:\", response.status)"
   ]
  },
  {
   "cell_type": "markdown",
   "metadata": {},
   "source": [
    "## 3. Check job status\n",
    "The fine-tuning job will take some time to complete, and that time is influenced by factors out of your control and without transparency. \n",
    "\n",
    "You can check the status of the job using the `client.fine_tuning.jobs.retrieve()` method. The method accepts the job ID as a parameter and returns the status of the job.\n",
    "\n",
    "API documentation: https://platform.openai.com/docs/api-reference/fine-tuning/retrieve"
   ]
  },
  {
   "cell_type": "code",
   "execution_count": 7,
   "metadata": {},
   "outputs": [
    {
     "name": "stdout",
     "output_type": "stream",
     "text": [
      "Job ID: ftjob-8X1gNa0yukCsdJBiytVKemkf\n",
      "Status: running\n",
      "Trained Tokens: None\n"
     ]
    }
   ],
   "source": [
    "response = client.fine_tuning.jobs.retrieve(job_id)\n",
    "\n",
    "print(\"Job ID:\", response.id)\n",
    "print(\"Status:\", response.status)\n",
    "print(\"Trained Tokens:\", response.trained_tokens)"
   ]
  },
  {
   "cell_type": "markdown",
   "metadata": {},
   "source": [
    "You can also list the events of a job using the `client.fine_tuning.jobs.list_events()` method. The method accepts the job ID as a parameter and returns a list of events associated with the job.\n",
    "\n",
    "The method has the following parameters:\n",
    "- `fine_tuning_job_id`: The ID of the fine-tuning job to list events for.\n",
    "- `limit`: The maximum number of events to retrieve (optional).\n",
    "- `after`: Identifier for the last event from the previous pagination request (optional).\n",
    "\n",
    "API documentation: https://platform.openai.com/docs/api-reference/fine-tuning/list-events"
   ]
  },
  {
   "cell_type": "code",
   "execution_count": 11,
   "metadata": {},
   "outputs": [
    {
     "name": "stdout",
     "output_type": "stream",
     "text": [
      "Step 273/300: training loss=1.44\n",
      "Step 274/300: training loss=0.00\n",
      "Step 275/300: training loss=0.39\n",
      "Step 276/300: training loss=0.00\n",
      "Step 277/300: training loss=0.00\n",
      "Step 278/300: training loss=0.00\n",
      "Step 279/300: training loss=0.00\n",
      "Step 280/300: training loss=0.00, validation loss=0.02\n",
      "Step 281/300: training loss=0.00\n",
      "Step 282/300: training loss=0.00\n",
      "Step 283/300: training loss=0.00\n",
      "Step 284/300: training loss=0.00\n",
      "Step 285/300: training loss=0.00\n",
      "Step 286/300: training loss=0.00\n",
      "Step 287/300: training loss=0.00\n",
      "Step 288/300: training loss=0.02\n",
      "Step 289/300: training loss=0.00\n",
      "Step 290/300: training loss=0.00, validation loss=0.00\n",
      "Step 291/300: training loss=0.00\n",
      "Step 292/300: training loss=0.00\n"
     ]
    }
   ],
   "source": [
    "response = client.fine_tuning.jobs.list_events(job_id)\n",
    "\n",
    "events = response.data\n",
    "events.reverse()\n",
    "\n",
    "for event in events:\n",
    "    print(event.message)"
   ]
  },
  {
   "cell_type": "markdown",
   "metadata": {},
   "source": [
    "## 4. Retrieve the fine-tuned model name\n",
    "When the fine-tune job is complete, you can retrieve the name of the fine-tuned model using the `client.fine_tuning.jobs.retrieve()` method. The method accepts the job ID as a parameter and returns the status of the job, including the name of the fine-tuned model.\n",
    "\n",
    "API documentation: https://platform.openai.com/docs/api-reference/fine-tuning/retrieve"
   ]
  },
  {
   "cell_type": "code",
   "execution_count": 10,
   "metadata": {},
   "outputs": [
    {
     "ename": "RuntimeError",
     "evalue": "Fine-tuned model ID not found. Your job has likely not been completed yet.",
     "output_type": "error",
     "traceback": [
      "\u001b[0;31m---------------------------------------------------------------------------\u001b[0m",
      "\u001b[0;31mRuntimeError\u001b[0m                              Traceback (most recent call last)",
      "Cell \u001b[0;32mIn[10], line 5\u001b[0m\n\u001b[1;32m      2\u001b[0m fine_tuned_model_id \u001b[38;5;241m=\u001b[39m response\u001b[38;5;241m.\u001b[39mfine_tuned_model\n\u001b[1;32m      4\u001b[0m \u001b[38;5;28;01mif\u001b[39;00m fine_tuned_model_id \u001b[38;5;129;01mis\u001b[39;00m \u001b[38;5;28;01mNone\u001b[39;00m: \n\u001b[0;32m----> 5\u001b[0m     \u001b[38;5;28;01mraise\u001b[39;00m \u001b[38;5;167;01mRuntimeError\u001b[39;00m(\u001b[38;5;124m\"\u001b[39m\u001b[38;5;124mFine-tuned model ID not found. Your job has likely not been completed yet.\u001b[39m\u001b[38;5;124m\"\u001b[39m)\n\u001b[1;32m      7\u001b[0m \u001b[38;5;28mprint\u001b[39m(\u001b[38;5;124m\"\u001b[39m\u001b[38;5;124mFine-tuned model ID:\u001b[39m\u001b[38;5;124m\"\u001b[39m, fine_tuned_model_id)\n",
      "\u001b[0;31mRuntimeError\u001b[0m: Fine-tuned model ID not found. Your job has likely not been completed yet."
     ]
    }
   ],
   "source": [
    "response = client.fine_tuning.jobs.retrieve(job_id)\n",
    "fine_tuned_model_id = response.fine_tuned_model\n",
    "\n",
    "if fine_tuned_model_id is None: \n",
    "    raise RuntimeError(\"Fine-tuned model ID not found. Your job has likely not been completed yet.\")\n",
    "\n",
    "print(\"Fine-tuned model ID:\", fine_tuned_model_id)"
   ]
  },
  {
   "cell_type": "markdown",
   "metadata": {},
   "source": [
    "## 5. Test the model\n",
    "Once the fine-tuning job is complete, you can test the model using the regular `client.chat.completions.create()` method and setting the `model` to the fine-tuned model ID retrieved in the previous step."
   ]
  },
  {
   "cell_type": "code",
   "execution_count": null,
   "metadata": {},
   "outputs": [],
   "source": [
    "test_messages = [\n",
    "    {\"role\": \"system\", \"content\": \"You are a restaurant review analyzer. Analyze the sentiment in the review provided. Output the rating value and the sentiment as JSON .\"},\n",
    "    {\"role\": \"user\", \"content\": \"Review: Decent food, slow service, beatutiful decor. Would return, maybe.\"}\n",
    "]\n",
    "\n",
    "response = client.chat.completions.create(\n",
    "    model=fine_tuned_model_id, \n",
    "    messages=test_messages, \n",
    "    temperature=0, \n",
    "    max_tokens=500\n",
    ")\n",
    "print(response.choices[0].message.content)"
   ]
  },
  {
   "cell_type": "markdown",
   "metadata": {},
   "source": [
    "## X. Cancel fine-tuning job\n",
    "If you need to cancel a fine-tuning job, you can use the `client.fine_tuning.jobs.cancel()` method. The method accepts the job ID as a parameter and cancels the job.\n",
    "(No active code example is provided for this because it could result in accidentally cancelling a job.)\n",
    "\n",
    "API documentation: https://platform.openai.com/docs/api-reference/fine-tuning/cancel"
   ]
  },
  {
   "cell_type": "markdown",
   "metadata": {},
   "source": []
  }
 ],
 "metadata": {
  "kernelspec": {
   "display_name": "Python 3",
   "language": "python",
   "name": "python3"
  },
  "language_info": {
   "codemirror_mode": {
    "name": "ipython",
    "version": 3
   },
   "file_extension": ".py",
   "mimetype": "text/x-python",
   "name": "python",
   "nbconvert_exporter": "python",
   "pygments_lexer": "ipython3",
   "version": "3.11.5"
  }
 },
 "nbformat": 4,
 "nbformat_minor": 2
}
