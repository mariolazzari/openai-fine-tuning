{
 "cells": [
  {
   "cell_type": "markdown",
   "metadata": {},
   "source": [
    "# Generate training and validation data for OpenAI Fine-tuning\n",
    "This notebook provides a process for creating training and validation data for the OpenAI Fine-tuning API from a CSV file.\n",
    "Training and validation data is saved in JSONL format where each line is a JSON object of a completed exchange between the API user and assistant. \n",
    "Example of completed exchange:\n",
    "```JSON\n",
    "{\n",
    "    'messages': [\n",
    "        {\n",
    "            'role': 'system',\n",
    "            'content': 'You are a restaurant review analyzer.'\n",
    "        },\n",
    "        {\n",
    "            'role': 'user',\n",
    "            'content': 'Review: The food was wonderful!'\n",
    "        },\n",
    "        {\n",
    "            'role': 'assistant',\n",
    "            'content': '{\"rating\": 1, \"sentiment\": \"Culinary Catastrophe\"}'\n",
    "        }\n",
    "    ]\n",
    "}\n",
    "```\n",
    "## Setup\n",
    "1. __Load the data__: Point to the original CSV data file.\n",
    "2. __Create example exchanges__: Configure the example exchanges to match your data and output needs.\n",
    "3. __Save the data__: Set the desired filenames for the training and testing data.\n",
    "4. __Validate data__: Enter the filename you want to validate and run the function.\n",
    "5. __Get token counts__: Run the function to get the token counts and warnings for the specified file.\n",
    "6. __Cost estimation__: Run the function to get the total token count across all epochs for cost estimation of the specified file.\n",
    "## Sources\n",
    "This example borrows liberally from [\"How to fine-tune chat models](https://github.com/openai/openai-cookbook/blob/main/examples/How_to_finetune_chat_models.ipynb) by OpenAI.\n",
    "The example data file `data/allreviews.csv` was created using parts of the [\"10000 Restaurant Reviews\"](https://www.kaggle.com/datasets/joebeachcapital/restaurant-reviews) dataset from Kaggle."
   ]
  },
  {
   "cell_type": "code",
   "execution_count": null,
   "metadata": {},
   "outputs": [],
   "source": [
    "# Import necessary libraries\n",
    "import os\n",
    "import pandas as pd\n",
    "import json         \n",
    "from pprint import pprint\n",
    "import tiktoken # for token counting\n",
    "import numpy as np\n",
    "from collections import defaultdict"
   ]
  },
  {
   "cell_type": "markdown",
   "metadata": {},
   "source": [
    "## 1. Load the data"
   ]
  },
  {
   "cell_type": "code",
   "execution_count": null,
   "metadata": {},
   "outputs": [],
   "source": [
    "# Data setup\n",
    "data_folder = \"../data\"\n",
    "source_file = os.path.join(data_folder, \"allreviews.csv\")\n",
    "training_file_name = os.path.join(data_folder, \"review_finetune_training.jsonl\")\n",
    "validation_file_name = os.path.join(data_folder, \"review_finetune_validation.jsonl\")\n",
    "\n",
    "# Load the data\n",
    "data = pd.read_csv(os.path.join(data_folder, source_file))\n",
    "data.head()"
   ]
  },
  {
   "cell_type": "markdown",
   "metadata": {},
   "source": [
    "## 2. Create example exchanges"
   ]
  },
  {
   "cell_type": "code",
   "execution_count": null,
   "metadata": {},
   "outputs": [],
   "source": [
    "# training_data = []\n",
    "\n",
    "# The system message is the same for all examples.\n",
    "system_message = \"You are a restaurant review analyzer. Analyze the sentiment in the review provided. Output the rating value and the sentiment as JSON .\"\n",
    "\n",
    "# Create the user message.\n",
    "def create_user_message(row):\n",
    "    return f\"\"\"Review: {row['Review']}\"\"\"\n",
    "\n",
    "# Create the assistant message.\n",
    "def create_assistant_message(row):\n",
    "    return f\"{{\\\"rating\\\": {row['Rating']}, \\\"Sentiment\\\": \\\"{row['Sentiment']}\\\"}}\\n\"\n",
    "\n",
    "# Receive the current row and create an example exchange.\n",
    "def create_full_exchange(row):\n",
    "    messages = []\n",
    "    messages.append({\"role\": \"system\", \"content\": system_message})\n",
    "\n",
    "    user_message = create_user_message(row)\n",
    "    messages.append({\"role\": \"user\", \"content\": user_message})\n",
    "\n",
    "    assistant_message = create_assistant_message(row)\n",
    "    messages.append({\"role\": \"assistant\", \"content\": assistant_message})\n",
    "\n",
    "    return {\"messages\": messages}\n",
    "\n",
    "# Output the first example exchange.\n",
    "pprint(create_full_exchange(data.iloc[0]))"
   ]
  },
  {
   "cell_type": "code",
   "execution_count": null,
   "metadata": {},
   "outputs": [],
   "source": [
    "# Pull the first 100 rows of data for the training set and the next 100 for the validation set.\n",
    "training_df = data.iloc[0:100]\n",
    "validation_df = data.iloc[100:200]\n",
    "\n",
    "# Use create_full_exchange on each row to generate the example exchanges.\n",
    "training_data = training_df.apply(create_full_exchange, axis=1).tolist()\n",
    "validation_data = validation_df.apply(create_full_exchange, axis=1).tolist()"
   ]
  },
  {
   "cell_type": "code",
   "execution_count": null,
   "metadata": {},
   "outputs": [],
   "source": [
    "# Output the first five examples in the training set.\n",
    "for example in training_data[:5]:\n",
    "    print(example)"
   ]
  },
  {
   "cell_type": "markdown",
   "metadata": {},
   "source": [
    "## 3. Create JSONL files"
   ]
  },
  {
   "cell_type": "code",
   "execution_count": null,
   "metadata": {},
   "outputs": [],
   "source": [
    "# Save the data as .jsonl files. Each line is a full example exchange.\n",
    "# NOTE: In JSONL format, each line ends with a line break without a comma.\n",
    "def write_jsonl(data_list: list, filename: str) -> None:\n",
    "    with open(filename, \"w\") as out:\n",
    "        for ddict in data_list:\n",
    "            jout = json.dumps(ddict) + \"\\n\"\n",
    "            out.write(jout)"
   ]
  },
  {
   "cell_type": "code",
   "execution_count": null,
   "metadata": {},
   "outputs": [],
   "source": [
    "# Write to .jsonl files\n",
    "write_jsonl(training_data, training_file_name)\n",
    "write_jsonl(validation_data, validation_file_name)"
   ]
  },
  {
   "cell_type": "markdown",
   "metadata": {},
   "source": [
    "## 4. Validate the data"
   ]
  },
  {
   "cell_type": "code",
   "execution_count": null,
   "metadata": {},
   "outputs": [],
   "source": [
    "# Point to a data file to test (one at a time)\n",
    "file_to_test = training_file_name\n",
    "# file_to_test = validation_file_name\n",
    "\n",
    "# Load the dataset\n",
    "with open(file_to_test, 'r', encoding='utf-8') as f:\n",
    "    dataset = [json.loads(line) for line in f]"
   ]
  },
  {
   "cell_type": "code",
   "execution_count": null,
   "metadata": {},
   "outputs": [],
   "source": [
    "from check_format_errors import check_format_errors\n",
    "# Check the format of the dataset\n",
    "errors = check_format_errors(dataset)"
   ]
  },
  {
   "cell_type": "markdown",
   "metadata": {},
   "source": [
    "# 5. Get token counts"
   ]
  },
  {
   "cell_type": "code",
   "execution_count": null,
   "metadata": {},
   "outputs": [],
   "source": [
    "from token_counter import num_tokens_from_messages, num_assistant_tokens_from_messages, print_distribution\n",
    "\n",
    "# Warnings and tokens counts\n",
    "n_missing_system = 0\n",
    "n_missing_user = 0\n",
    "n_messages = []\n",
    "convo_lens = []\n",
    "assistant_message_lens = []\n",
    "\n",
    "for ex in dataset:\n",
    "    messages = ex[\"messages\"]\n",
    "    if not any(message[\"role\"] == \"system\" for message in messages):\n",
    "        n_missing_system += 1\n",
    "    if not any(message[\"role\"] == \"user\" for message in messages):\n",
    "        n_missing_user += 1\n",
    "    n_messages.append(len(messages))\n",
    "    convo_lens.append(num_tokens_from_messages(messages))\n",
    "    assistant_message_lens.append(num_assistant_tokens_from_messages(messages))\n",
    "    \n",
    "print(\"Num examples missing system message:\", n_missing_system)\n",
    "print(\"Num examples missing user message:\", n_missing_user)\n",
    "print_distribution(n_messages, \"num_messages_per_example\")\n",
    "print_distribution(convo_lens, \"num_total_tokens_per_example\")\n",
    "print_distribution(assistant_message_lens, \"num_assistant_tokens_per_example\")\n",
    "n_too_long = sum(l > 4096 for l in convo_lens)\n",
    "print(f\"\\n{n_too_long} examples may be over the 4096 token limit, they will be truncated during fine-tuning\")"
   ]
  },
  {
   "cell_type": "markdown",
   "metadata": {},
   "source": [
    "# 6. Cost estimation"
   ]
  },
  {
   "cell_type": "code",
   "execution_count": null,
   "metadata": {},
   "outputs": [],
   "source": [
    "# Pricing and default n_epochs estimate\n",
    "MAX_TOKENS_PER_EXAMPLE = 4096\n",
    "\n",
    "TARGET_EPOCHS = 3\n",
    "MIN_TARGET_EXAMPLES = 100\n",
    "MAX_TARGET_EXAMPLES = 25000\n",
    "MIN_DEFAULT_EPOCHS = 1\n",
    "MAX_DEFAULT_EPOCHS = 25\n",
    "\n",
    "n_epochs = TARGET_EPOCHS\n",
    "n_train_examples = len(dataset)\n",
    "if n_train_examples * TARGET_EPOCHS < MIN_TARGET_EXAMPLES:\n",
    "    n_epochs = min(MAX_DEFAULT_EPOCHS, MIN_TARGET_EXAMPLES // n_train_examples)\n",
    "elif n_train_examples * TARGET_EPOCHS > MAX_TARGET_EXAMPLES:\n",
    "    n_epochs = max(MIN_DEFAULT_EPOCHS, MAX_TARGET_EXAMPLES // n_train_examples)\n",
    "\n",
    "n_billing_tokens_in_dataset = sum(min(MAX_TOKENS_PER_EXAMPLE, length) for length in convo_lens)\n",
    "print(f\"Dataset has ~{n_billing_tokens_in_dataset} tokens that will be charged for during training\")\n",
    "print(f\"By default, you'll train for {n_epochs} epochs on this dataset\")\n",
    "print(f\"By default, you'll be charged for ~{n_epochs * n_billing_tokens_in_dataset} tokens\")"
   ]
  },
  {
   "cell_type": "code",
   "execution_count": null,
   "metadata": {},
   "outputs": [],
   "source": []
  }
 ],
 "metadata": {
  "kernelspec": {
   "display_name": "Python 3",
   "language": "python",
   "name": "python3"
  },
  "language_info": {
   "codemirror_mode": {
    "name": "ipython",
    "version": 3
   },
   "file_extension": ".py",
   "mimetype": "text/x-python",
   "name": "python",
   "nbconvert_exporter": "python",
   "pygments_lexer": "ipython3",
   "version": "3.11.5"
  }
 },
 "nbformat": 4,
 "nbformat_minor": 2
}
